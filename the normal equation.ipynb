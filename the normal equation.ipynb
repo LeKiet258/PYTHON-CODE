{
    "cells": [
        {
            "cell_type": "code",
            "execution_count": 1,
            "source": [
                "#generate some linear-looking data\r\n",
                "import numpy as np\r\n",
                "\r\n",
                "np.random.seed(0)\r\n",
                "X = 2 * np.random.rand(100, 1)\r\n",
                "y = 4 + 3 * X + np.random.randn(100, 1) #y = 4 + 3x + Gaussian noise"
            ],
            "outputs": [],
            "metadata": {}
        },
        {
            "cell_type": "code",
            "execution_count": 2,
            "source": [
                "X_b = np.c_[np.ones((100,1)), X] #add 1 before each instance\r\n",
                "theta = np.linalg.pinv(X_b).dot(y)\r\n",
                "theta \r\n",
                "#result: y = 3.77x + 3.14, which is nearly y = 4 + 3x "
            ],
            "outputs": [
                {
                    "output_type": "execute_result",
                    "data": {
                        "text/plain": [
                            "array([[4.22215108],\n",
                            "       [2.96846751]])"
                        ]
                    },
                    "metadata": {},
                    "execution_count": 2
                }
            ],
            "metadata": {}
        },
        {
            "cell_type": "code",
            "execution_count": 5,
            "source": [
                "#test for input x = 2\r\n",
                "X_test = [[0],[2]] #need [0] to perform matrix multiplication\r\n",
                "X_test_new = np.c_[np.ones((2,1)), X_test] #purpose: để dimension đủ số dòng, số cột để nhân vào ma trận theta0, theta1 ở cell phía trên\r\n",
                "y_predict = X_test_new.dot(theta)\r\n",
                "y_predict #y(2) = 10.047"
            ],
            "outputs": [
                {
                    "output_type": "execute_result",
                    "data": {
                        "text/plain": [
                            "array([[ 3.77303795],\n",
                            "       [10.04746758]])"
                        ]
                    },
                    "metadata": {},
                    "execution_count": 5
                }
            ],
            "metadata": {}
        },
        {
            "cell_type": "code",
            "execution_count": 7,
            "source": [
                "#Cách 2: dùng thư viện có sẵn -> nên dùng để test\r\n",
                "from sklearn.linear_model import LinearRegression\r\n",
                "\r\n",
                "model = LinearRegression() #khởi tạo biến model dùng constructor\r\n",
                "model.fit(X,y)\r\n",
                "model.intercept_, model.coef_ #theta0 & theta1"
            ],
            "outputs": [
                {
                    "output_type": "execute_result",
                    "data": {
                        "text/plain": [
                            "(array([4.22215108]), array([[2.96846751]]))"
                        ]
                    },
                    "metadata": {},
                    "execution_count": 7
                }
            ],
            "metadata": {}
        },
        {
            "cell_type": "code",
            "execution_count": 7,
            "source": [
                "model.predict(X_test) #same result: y(2) = 10.047"
            ],
            "outputs": [
                {
                    "output_type": "execute_result",
                    "data": {
                        "text/plain": [
                            "array([[ 3.77303795],\n",
                            "       [10.04746758]])"
                        ]
                    },
                    "metadata": {},
                    "execution_count": 7
                }
            ],
            "metadata": {}
        },
        {
            "cell_type": "code",
            "execution_count": 8,
            "source": [
                "#Cách 3: (batch) gradient descent \r\n",
                "alpha = 0.1 #learning rate\r\n",
                "m = len(X) #100\r\n",
                "theta = np.random.rand(2,1) #GD bắt đầu với theta ngẫu nhiên\r\n",
                "iter = 0\r\n",
                "\r\n",
                "while(1):\r\n",
                "    iter += 1\r\n",
                "    gradient = 2/m * X_b.T.dot(X_b.dot(theta) - y) #sử dụng X_b thay vì X để thực hiện nhân vector\r\n",
                "    theta = theta - alpha*gradient\r\n",
                "    if(np.linalg.norm(gradient) < 1e-4): #when the gradient becomes tiny\r\n",
                "        break\r\n",
                "\r\n",
                "theta, iter #correct: cần 258 vòng lặp để J(theta) đạt min"
            ],
            "outputs": [
                {
                    "output_type": "execute_result",
                    "data": {
                        "text/plain": [
                            "(array([[4.22193011],\n",
                            "        [2.96866358]]),\n",
                            " 258)"
                        ]
                    },
                    "metadata": {},
                    "execution_count": 8
                }
            ],
            "metadata": {}
        },
        {
            "cell_type": "code",
            "execution_count": null,
            "source": [],
            "outputs": [],
            "metadata": {}
        }
    ],
    "metadata": {
        "orig_nbformat": 4,
        "language_info": {
            "name": "python",
            "version": "3.9.6",
            "mimetype": "text/x-python",
            "codemirror_mode": {
                "name": "ipython",
                "version": 3
            },
            "pygments_lexer": "ipython3",
            "nbconvert_exporter": "python",
            "file_extension": ".py"
        },
        "kernelspec": {
            "name": "python3",
            "display_name": "Python 3.9.6 64-bit"
        },
        "interpreter": {
            "hash": "dcacb0086e9a4f4eabd41c33bf4faac5ea0a3337ed3f5eff0680afa930572c04"
        }
    },
    "nbformat": 4,
    "nbformat_minor": 2
}